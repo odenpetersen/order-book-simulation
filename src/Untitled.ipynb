{
 "cells": [
  {
   "cell_type": "markdown",
   "id": "2d06ef3d-6ea8-4425-8450-d90260ecda1d",
   "metadata": {},
   "source": [
    "# Load"
   ]
  },
  {
   "cell_type": "code",
   "execution_count": 4,
   "id": "8abc931c-5ba3-42e6-a58d-0e4135520628",
   "metadata": {},
   "outputs": [],
   "source": [
    "import glob"
   ]
  },
  {
   "cell_type": "code",
   "execution_count": 2,
   "id": "b29645b8-3c21-4480-b276-2cadbe455e51",
   "metadata": {},
   "outputs": [],
   "source": [
    "import databento_parse"
   ]
  },
  {
   "cell_type": "code",
   "execution_count": 5,
   "id": "3fd02294-26e4-471a-af90-901ede3bc69c",
   "metadata": {},
   "outputs": [],
   "source": [
    "folders = [\"../data/databento/mes/ftp.databento.com/E8XGYL35/GLBX-20241008-PP9KBLT3CX/\", \"../data/databento/es/ftp.databento.com/E8XGYL35/GLBX-20241008-8PTR93CRA9/\"]\n",
    "filenames = sorted(set([file.split('/')[-1] for folder in folders for file in glob.glob(f'{folder}/*.zst')]))"
   ]
  },
  {
   "cell_type": "code",
   "execution_count": 6,
   "id": "8d898702-2207-41ff-a4d4-aa8f16903e6c",
   "metadata": {},
   "outputs": [],
   "source": [
    "filename = filenames[0]\n",
    "mbos = databento_parse.interleave([databento_parse.parse_file(folder+filename) for folder in folders])"
   ]
  },
  {
   "cell_type": "markdown",
   "id": "7ac51c0e-5049-424e-8822-56a83eefe247",
   "metadata": {},
   "source": [
    "# Process Events"
   ]
  },
  {
   "cell_type": "code",
   "execution_count": 18,
   "id": "c6ec4d0f-1622-43d8-94ab-69841ff420d2",
   "metadata": {},
   "outputs": [],
   "source": [
    "import sys\n",
    "sys.path.append('../github/code/')"
   ]
  },
  {
   "cell_type": "code",
   "execution_count": 19,
   "id": "0d60a2ee-b97b-405a-bfc3-4b80e9ef362a",
   "metadata": {},
   "outputs": [
    {
     "ename": "ModuleNotFoundError",
     "evalue": "No module named 'scipy'",
     "output_type": "error",
     "traceback": [
      "\u001b[0;31m---------------------------------------------------------------------------\u001b[0m",
      "\u001b[0;31mModuleNotFoundError\u001b[0m                       Traceback (most recent call last)",
      "Cell \u001b[0;32mIn[19], line 1\u001b[0m\n\u001b[0;32m----> 1\u001b[0m \u001b[38;5;28;01mimport\u001b[39;00m \u001b[38;5;21;01mfast_em_classes\u001b[39;00m\n",
      "File \u001b[0;32m~/Honours/src/../github/code/fast_em_classes.py:2\u001b[0m\n\u001b[1;32m      1\u001b[0m \u001b[38;5;28;01mimport\u001b[39;00m \u001b[38;5;21;01mnumpy\u001b[39;00m \u001b[38;5;28;01mas\u001b[39;00m \u001b[38;5;21;01mnp\u001b[39;00m\n\u001b[0;32m----> 2\u001b[0m \u001b[38;5;28;01mimport\u001b[39;00m \u001b[38;5;21;01mscipy\u001b[39;00m \u001b[38;5;28;01mas\u001b[39;00m \u001b[38;5;21;01msp\u001b[39;00m\n\u001b[1;32m      3\u001b[0m \u001b[38;5;28;01mimport\u001b[39;00m \u001b[38;5;21;01mscipy\u001b[39;00m\u001b[38;5;21;01m.\u001b[39;00m\u001b[38;5;21;01mstats\u001b[39;00m\n\u001b[1;32m      4\u001b[0m \u001b[38;5;28;01mimport\u001b[39;00m \u001b[38;5;21;01mitertools\u001b[39;00m\n",
      "\u001b[0;31mModuleNotFoundError\u001b[0m: No module named 'scipy'"
     ]
    }
   ],
   "source": [
    "import fast_em_classes"
   ]
  },
  {
   "cell_type": "code",
   "execution_count": 20,
   "id": "57093417-7209-43dd-ad4b-9803bd287c05",
   "metadata": {},
   "outputs": [
    {
     "name": "stdout",
     "output_type": "stream",
     "text": [
      "Defaulting to user installation because normal site-packages is not writeable\n",
      "\u001b[33mWARNING: Retrying (Retry(total=4, connect=None, read=None, redirect=None, status=None)) after connection broken by 'NewConnectionError('<pip._vendor.urllib3.connection.HTTPSConnection object at 0x7fe47b828490>: Failed to establish a new connection: [Errno -3] Temporary failure in name resolution')': /simple/scipy/\u001b[0m\u001b[33m\n",
      "\u001b[0m\u001b[33mWARNING: Retrying (Retry(total=3, connect=None, read=None, redirect=None, status=None)) after connection broken by 'NewConnectionError('<pip._vendor.urllib3.connection.HTTPSConnection object at 0x7fe47b8286a0>: Failed to establish a new connection: [Errno -3] Temporary failure in name resolution')': /simple/scipy/\u001b[0m\u001b[33m\n",
      "\u001b[0m\u001b[33mWARNING: Retrying (Retry(total=2, connect=None, read=None, redirect=None, status=None)) after connection broken by 'NewConnectionError('<pip._vendor.urllib3.connection.HTTPSConnection object at 0x7fe47b8288b0>: Failed to establish a new connection: [Errno -3] Temporary failure in name resolution')': /simple/scipy/\u001b[0m\u001b[33m\n",
      "\u001b[0m\u001b[33mWARNING: Retrying (Retry(total=1, connect=None, read=None, redirect=None, status=None)) after connection broken by 'NewConnectionError('<pip._vendor.urllib3.connection.HTTPSConnection object at 0x7fe47b828a60>: Failed to establish a new connection: [Errno -3] Temporary failure in name resolution')': /simple/scipy/\u001b[0m\u001b[33m\n",
      "\u001b[0m\u001b[33mWARNING: Retrying (Retry(total=0, connect=None, read=None, redirect=None, status=None)) after connection broken by 'NewConnectionError('<pip._vendor.urllib3.connection.HTTPSConnection object at 0x7fe47b828c10>: Failed to establish a new connection: [Errno -3] Temporary failure in name resolution')': /simple/scipy/\u001b[0m\u001b[33m\n",
      "\u001b[0m\u001b[31mERROR: Could not find a version that satisfies the requirement scipy (from versions: none)\u001b[0m\u001b[31m\n",
      "\u001b[0m\u001b[31mERROR: No matching distribution found for scipy\u001b[0m\u001b[31m\n",
      "\u001b[0mNote: you may need to restart the kernel to use updated packages.\n"
     ]
    }
   ],
   "source": [
    "pip install scipy"
   ]
  },
  {
   "cell_type": "code",
   "execution_count": null,
   "id": "57b1d696-d098-4792-89a9-22fcd2805133",
   "metadata": {},
   "outputs": [],
   "source": []
  },
  {
   "cell_type": "code",
   "execution_count": 17,
   "id": "08a85a4d-97c7-43e5-a529-5b4aaacb5cb3",
   "metadata": {},
   "outputs": [
    {
     "name": "stdout",
     "output_type": "stream",
     "text": [
      "0.252437319 M B\n"
     ]
    }
   ],
   "source": [
    "for mbo, market, instrument, seconds in itertools.islice(mbos,0,1):\n",
    "    print(seconds, mbo.action, mbo.side)"
   ]
  },
  {
   "cell_type": "code",
   "execution_count": null,
   "id": "d88f9ee3-3fd2-4153-8f67-eef3bd750680",
   "metadata": {},
   "outputs": [],
   "source": []
  }
 ],
 "metadata": {
  "kernelspec": {
   "display_name": "Python 3 (ipykernel)",
   "language": "python",
   "name": "python3"
  },
  "language_info": {
   "codemirror_mode": {
    "name": "ipython",
    "version": 3
   },
   "file_extension": ".py",
   "mimetype": "text/x-python",
   "name": "python",
   "nbconvert_exporter": "python",
   "pygments_lexer": "ipython3",
   "version": "3.10.12"
  }
 },
 "nbformat": 4,
 "nbformat_minor": 5
}
